{
 "cells": [
  {
   "cell_type": "markdown",
   "metadata": {},
   "source": [
    "# Load packages"
   ]
  },
  {
   "cell_type": "code",
   "execution_count": 202,
   "metadata": {},
   "outputs": [],
   "source": [
    "import pandas as pd\n",
    "from sklearn.model_selection import train_test_split\n",
    "from sklearn.ensemble import RandomForestClassifier\n",
    "from sklearn.metrics import accuracy_score\n",
    "from sklearn.preprocessing import LabelEncoder\n",
    "from sklearn.metrics import accuracy_score, classification_report\n"
   ]
  },
  {
   "cell_type": "markdown",
   "metadata": {},
   "source": [
    "# Load the file"
   ]
  },
  {
   "cell_type": "markdown",
   "metadata": {},
   "source": []
  },
  {
   "cell_type": "code",
   "execution_count": 203,
   "metadata": {},
   "outputs": [],
   "source": [
    "file_path = \"C:/Users/Cloud/Documents/ML-group/data/fullData.csv\"\n",
    "data = pd.read_csv(file_path)\n",
    "\n",
    "df = pd.DataFrame(data)\n",
    "df = df.drop(columns=['is_interleague','pos7_int_start_distance_p','pos8_int_start_distance_p','pos5_int_start_distance_p','pos3_int_start_distance_p','pos9_int_start_distance_p','pos4_int_start_distance_p','pos6_int_start_distance_p',\n",
    "                      'team_id','days_since_last_game','series_game_number','scoreLine','start_time','series_id','team_side','date','JOIN','time_of_day', 'sky', 'field_condition', 'precipitation', 'wind_direction', 'park_id', 'attendance', 'wind_speed_mph', 'dayOfWeek','pos3_int_start_distance_h','pos4_int_start_distance_h', 'pos5_int_start_distance_h', 'pos6_int_start_distance_h', 'pos7_int_start_distance_h','pos8_int_start_distance_h', 'pos9_int_start_distance_h','opp_ScoreLine'])"
   ]
  },
  {
   "cell_type": "code",
   "execution_count": 204,
   "metadata": {},
   "outputs": [
    {
     "data": {
      "text/html": [
       "<div>\n",
       "<style scoped>\n",
       "    .dataframe tbody tr th:only-of-type {\n",
       "        vertical-align: middle;\n",
       "    }\n",
       "\n",
       "    .dataframe tbody tr th {\n",
       "        vertical-align: top;\n",
       "    }\n",
       "\n",
       "    .dataframe thead th {\n",
       "        text-align: right;\n",
       "    }\n",
       "</style>\n",
       "<table border=\"1\" class=\"dataframe\">\n",
       "  <thead>\n",
       "    <tr style=\"text-align: right;\">\n",
       "      <th></th>\n",
       "      <th>doubleheader</th>\n",
       "      <th>temperature_fahrenheit</th>\n",
       "      <th>season_game_number</th>\n",
       "      <th>pitches_p</th>\n",
       "      <th>ba_p</th>\n",
       "      <th>iso_p</th>\n",
       "      <th>babip_p</th>\n",
       "      <th>slg_p</th>\n",
       "      <th>woba_p</th>\n",
       "      <th>xwoba_p</th>\n",
       "      <th>...</th>\n",
       "      <th>swings_h</th>\n",
       "      <th>takes_h</th>\n",
       "      <th>eff_min_vel_h</th>\n",
       "      <th>release_extension_h</th>\n",
       "      <th>pitcher_run_exp_h</th>\n",
       "      <th>run_exp_h</th>\n",
       "      <th>duration</th>\n",
       "      <th>score</th>\n",
       "      <th>opp_score</th>\n",
       "      <th>winLoss</th>\n",
       "    </tr>\n",
       "  </thead>\n",
       "  <tbody>\n",
       "    <tr>\n",
       "      <th>0</th>\n",
       "      <td>0</td>\n",
       "      <td>38</td>\n",
       "      <td>1</td>\n",
       "      <td>153</td>\n",
       "      <td>0.324</td>\n",
       "      <td>0.118</td>\n",
       "      <td>0.407</td>\n",
       "      <td>0.441</td>\n",
       "      <td>0.366</td>\n",
       "      <td>0.341</td>\n",
       "      <td>...</td>\n",
       "      <td>78</td>\n",
       "      <td>113</td>\n",
       "      <td>-6.5</td>\n",
       "      <td>6.65</td>\n",
       "      <td>-5.5</td>\n",
       "      <td>5.5</td>\n",
       "      <td>190</td>\n",
       "      <td>10</td>\n",
       "      <td>9</td>\n",
       "      <td>Win</td>\n",
       "    </tr>\n",
       "    <tr>\n",
       "      <th>1</th>\n",
       "      <td>0</td>\n",
       "      <td>38</td>\n",
       "      <td>1</td>\n",
       "      <td>191</td>\n",
       "      <td>0.395</td>\n",
       "      <td>0.263</td>\n",
       "      <td>0.464</td>\n",
       "      <td>0.658</td>\n",
       "      <td>0.498</td>\n",
       "      <td>0.462</td>\n",
       "      <td>...</td>\n",
       "      <td>72</td>\n",
       "      <td>81</td>\n",
       "      <td>-2.7</td>\n",
       "      <td>6.52</td>\n",
       "      <td>-2.4</td>\n",
       "      <td>2.4</td>\n",
       "      <td>190</td>\n",
       "      <td>9</td>\n",
       "      <td>10</td>\n",
       "      <td>Loss</td>\n",
       "    </tr>\n",
       "    <tr>\n",
       "      <th>2</th>\n",
       "      <td>0</td>\n",
       "      <td>42</td>\n",
       "      <td>1</td>\n",
       "      <td>133</td>\n",
       "      <td>0.138</td>\n",
       "      <td>0.000</td>\n",
       "      <td>0.235</td>\n",
       "      <td>0.138</td>\n",
       "      <td>0.206</td>\n",
       "      <td>0.234</td>\n",
       "      <td>...</td>\n",
       "      <td>59</td>\n",
       "      <td>65</td>\n",
       "      <td>0.5</td>\n",
       "      <td>6.47</td>\n",
       "      <td>0.6</td>\n",
       "      <td>-0.6</td>\n",
       "      <td>141</td>\n",
       "      <td>4</td>\n",
       "      <td>0</td>\n",
       "      <td>Win</td>\n",
       "    </tr>\n",
       "  </tbody>\n",
       "</table>\n",
       "<p>3 rows × 51 columns</p>\n",
       "</div>"
      ],
      "text/plain": [
       "   doubleheader  temperature_fahrenheit  season_game_number  pitches_p   ba_p  \\\n",
       "0             0                      38                   1        153  0.324   \n",
       "1             0                      38                   1        191  0.395   \n",
       "2             0                      42                   1        133  0.138   \n",
       "\n",
       "   iso_p  babip_p  slg_p  woba_p  xwoba_p  ...  swings_h  takes_h  \\\n",
       "0  0.118    0.407  0.441   0.366    0.341  ...        78      113   \n",
       "1  0.263    0.464  0.658   0.498    0.462  ...        72       81   \n",
       "2  0.000    0.235  0.138   0.206    0.234  ...        59       65   \n",
       "\n",
       "   eff_min_vel_h  release_extension_h  pitcher_run_exp_h  run_exp_h  duration  \\\n",
       "0           -6.5                 6.65               -5.5        5.5       190   \n",
       "1           -2.7                 6.52               -2.4        2.4       190   \n",
       "2            0.5                 6.47                0.6       -0.6       141   \n",
       "\n",
       "   score  opp_score  winLoss  \n",
       "0     10          9      Win  \n",
       "1      9         10     Loss  \n",
       "2      4          0      Win  \n",
       "\n",
       "[3 rows x 51 columns]"
      ]
     },
     "execution_count": 204,
     "metadata": {},
     "output_type": "execute_result"
    }
   ],
   "source": [
    "df.head(3)"
   ]
  },
  {
   "cell_type": "code",
   "execution_count": 205,
   "metadata": {},
   "outputs": [
    {
     "data": {
      "text/plain": [
       "doubleheader                int64\n",
       "temperature_fahrenheit      int64\n",
       "season_game_number          int64\n",
       "pitches_p                   int64\n",
       "ba_p                      float64\n",
       "iso_p                     float64\n",
       "babip_p                   float64\n",
       "slg_p                     float64\n",
       "woba_p                    float64\n",
       "xwoba_p                   float64\n",
       "xba_p                     float64\n",
       "hits_p                      int64\n",
       "abs_p                       int64\n",
       "launch_speed_p            float64\n",
       "launch_angle_p            float64\n",
       "spin_rate_p                 int64\n",
       "velocity_p                float64\n",
       "effective_speed_p         float64\n",
       "whiffs_p                    int64\n",
       "swings_p                    int64\n",
       "takes_p                     int64\n",
       "eff_min_vel_p             float64\n",
       "release_extension_p       float64\n",
       "pitcher_run_exp_p         float64\n",
       "run_exp_p                 float64\n",
       "pitches_h                   int64\n",
       "ba_h                      float64\n",
       "iso_h                     float64\n",
       "babip_h                   float64\n",
       "slg_h                     float64\n",
       "woba_h                    float64\n",
       "xwoba_h                   float64\n",
       "xba_h                     float64\n",
       "hits_h                      int64\n",
       "abs_h                       int64\n",
       "launch_speed_h            float64\n",
       "launch_angle_h            float64\n",
       "spin_rate_h                 int64\n",
       "velocity_h                float64\n",
       "effective_speed_h         float64\n",
       "whiffs_h                    int64\n",
       "swings_h                    int64\n",
       "takes_h                     int64\n",
       "eff_min_vel_h             float64\n",
       "release_extension_h       float64\n",
       "pitcher_run_exp_h         float64\n",
       "run_exp_h                 float64\n",
       "duration                    int64\n",
       "score                       int64\n",
       "opp_score                   int64\n",
       "winLoss                    object\n",
       "dtype: object"
      ]
     },
     "execution_count": 205,
     "metadata": {},
     "output_type": "execute_result"
    }
   ],
   "source": [
    "df.dtypes"
   ]
  },
  {
   "cell_type": "markdown",
   "metadata": {},
   "source": [
    "# Random Forest Analysis"
   ]
  },
  {
   "cell_type": "code",
   "execution_count": 206,
   "metadata": {},
   "outputs": [
    {
     "name": "stdout",
     "output_type": "stream",
     "text": [
      "doubleheader              0\n",
      "temperature_fahrenheit    0\n",
      "season_game_number        0\n",
      "pitches_p                 0\n",
      "ba_p                      0\n",
      "iso_p                     0\n",
      "babip_p                   0\n",
      "slg_p                     0\n",
      "woba_p                    0\n",
      "xwoba_p                   0\n",
      "xba_p                     0\n",
      "hits_p                    0\n",
      "abs_p                     0\n",
      "launch_speed_p            0\n",
      "launch_angle_p            0\n",
      "spin_rate_p               0\n",
      "velocity_p                0\n",
      "effective_speed_p         0\n",
      "whiffs_p                  0\n",
      "swings_p                  0\n",
      "takes_p                   0\n",
      "eff_min_vel_p             0\n",
      "release_extension_p       0\n",
      "pitcher_run_exp_p         0\n",
      "run_exp_p                 0\n",
      "pitches_h                 0\n",
      "ba_h                      0\n",
      "iso_h                     0\n",
      "babip_h                   0\n",
      "slg_h                     0\n",
      "woba_h                    0\n",
      "xwoba_h                   0\n",
      "xba_h                     0\n",
      "hits_h                    0\n",
      "abs_h                     0\n",
      "launch_speed_h            0\n",
      "launch_angle_h            0\n",
      "spin_rate_h               0\n",
      "velocity_h                0\n",
      "effective_speed_h         0\n",
      "whiffs_h                  0\n",
      "swings_h                  0\n",
      "takes_h                   0\n",
      "eff_min_vel_h             0\n",
      "release_extension_h       0\n",
      "pitcher_run_exp_h         0\n",
      "run_exp_h                 0\n",
      "duration                  0\n",
      "score                     0\n",
      "opp_score                 0\n",
      "winLoss                   0\n",
      "dtype: int64\n"
     ]
    }
   ],
   "source": [
    "# Assuming 'X' is a pandas DataFrame\n",
    "missing_values_count = df.isna().sum()\n",
    "\n",
    "# To print the count of missing values for each column\n",
    "print(missing_values_count)"
   ]
  },
  {
   "cell_type": "code",
   "execution_count": 207,
   "metadata": {},
   "outputs": [
    {
     "name": "stdout",
     "output_type": "stream",
     "text": [
      "Accuracy: 0.9434156378600823\n",
      "              precision    recall  f1-score   support\n",
      "\n",
      "           0       0.95      0.94      0.95       506\n",
      "           1       0.94      0.94      0.94       466\n",
      "\n",
      "    accuracy                           0.94       972\n",
      "   macro avg       0.94      0.94      0.94       972\n",
      "weighted avg       0.94      0.94      0.94       972\n",
      "\n",
      "                   importance\n",
      "pitcher_run_exp_p    0.237945\n",
      "run_exp_p            0.233822\n",
      "run_exp_h            0.220767\n",
      "pitcher_run_exp_h    0.219906\n",
      "woba_h               0.087561\n"
     ]
    }
   ],
   "source": [
    "# Encode the 'winLoss' column\n",
    "label_encoder = LabelEncoder()\n",
    "df['winLoss'] = label_encoder.fit_transform(df['winLoss'])\n",
    "\n",
    "# Split the data into features and target\n",
    "X = df[['pitcher_run_exp_h', 'run_exp_p','pitcher_run_exp_p',\n",
    "       'run_exp_h','woba_h']]\n",
    "y = df['winLoss']\n",
    "\n",
    "# Split the dataset into training and testing sets\n",
    "X_train, X_test, y_train, y_test = train_test_split(X, y, test_size=0.2, random_state=42)\n",
    "\n",
    "# Initialize a Random Forest classifier\n",
    "rf_classifier = RandomForestClassifier(n_estimators=100, random_state=42)\n",
    "\n",
    "# Train the model\n",
    "rf_classifier.fit(X_train, y_train)\n",
    "\n",
    "# Predict on the test set\n",
    "y_pred = rf_classifier.predict(X_test)\n",
    "\n",
    "# Evaluate the model\n",
    "accuracy = accuracy_score(y_test, y_pred)\n",
    "print(f\"Accuracy: {accuracy}\")\n",
    "print(classification_report(y_test, y_pred))\n",
    "\n",
    "# Feature importance\n",
    "feature_importances = pd.DataFrame(rf_classifier.feature_importances_,\n",
    "                                   index = X_train.columns,\n",
    "                                   columns=['importance']).sort_values('importance', ascending=False)\n",
    "print(feature_importances)"
   ]
  },
  {
   "cell_type": "code",
   "execution_count": 208,
   "metadata": {},
   "outputs": [],
   "source": [
    "import numpy as np\n",
    "import matplotlib.pyplot as plt\n",
    "from sklearn.model_selection import learning_curve"
   ]
  },
  {
   "cell_type": "code",
   "execution_count": 209,
   "metadata": {},
   "outputs": [],
   "source": [
    "\n",
    "\n",
    "# Function to plot the learning curve\n",
    "def plot_learning_curve(estimator, X, y, cv=None, n_jobs=None, train_sizes=np.array([5,10,50,100, 200])):\n",
    "    train_sizes, train_scores, test_scores = learning_curve(\n",
    "        estimator, X, y, cv=cv, n_jobs=n_jobs, train_sizes=train_sizes, random_state=42)\n",
    "    \n",
    "    train_scores_mean = np.mean(train_scores, axis=1)\n",
    "    train_scores_std = np.std(train_scores, axis=1)\n",
    "    test_scores_mean = np.mean(test_scores, axis=1)\n",
    "    test_scores_std = np.std(test_scores, axis=1)\n",
    "\n",
    "    plt.figure()\n",
    "    plt.title('Learning Curve')\n",
    "    plt.xlabel(\"Training examples\")\n",
    "    plt.ylabel(\"Score\")\n",
    "    plt.grid()\n",
    "\n",
    "    plt.fill_between(train_sizes, train_scores_mean - train_scores_std,\n",
    "                     train_scores_mean + train_scores_std, alpha=0.1, color=\"r\")\n",
    "    plt.fill_between(train_sizes, test_scores_mean - test_scores_std,\n",
    "                     test_scores_mean + test_scores_std, alpha=0.1, color=\"g\")\n",
    "    plt.plot(train_sizes, train_scores_mean, 'o-', color=\"r\", label=\"Training score\")\n",
    "    plt.plot(train_sizes, test_scores_mean, 'o-', color=\"g\", label=\"Cross-validation score\")\n",
    "\n",
    "    plt.legend(loc=\"best\")\n",
    "    plt.show()"
   ]
  },
  {
   "cell_type": "code",
   "execution_count": 210,
   "metadata": {},
   "outputs": [
    {
     "data": {
      "image/png": "[encoded data removed]",
      "text/plain": [
       "<Figure size 640x480 with 1 Axes>"
      ]
     },
     "metadata": {},
     "output_type": "display_data"
    }
   ],
   "source": [
    "# Plot the learning curve using the RandomForestClassifier and your data\n",
    "plot_learning_curve(rf_classifier, X_train, y_train, cv=5, n_jobs=-1)"
   ]
  },
  {
   "cell_type": "code",
   "execution_count": 211,
   "metadata": {},
   "outputs": [],
   "source": [
    "from sklearn.ensemble import RandomForestRegressor"
   ]
  },
  {
   "cell_type": "code",
   "execution_count": 212,
   "metadata": {},
   "outputs": [
    {
     "ename": "TypeError",
     "evalue": "RandomForestRegressor.__init__() got an unexpected keyword argument 'min_impurity_split'",
     "output_type": "error",
     "traceback": [
      "\u001b[1;31m---------------------------------------------------------------------------\u001b[0m",
      "\u001b[1;31mTypeError\u001b[0m                                 Traceback (most recent call last)",
      "Cell \u001b[1;32mIn[212], line 1\u001b[0m\n\u001b[1;32m----> 1\u001b[0m RandomForestRegressor(bootstrap\u001b[38;5;241m=\u001b[39m\u001b[38;5;28;01mTrue\u001b[39;00m, ccp_alpha\u001b[38;5;241m=\u001b[39m\u001b[38;5;241m0.0\u001b[39m, criterion\u001b[38;5;241m=\u001b[39m\u001b[38;5;124m'\u001b[39m\u001b[38;5;124mmse\u001b[39m\u001b[38;5;124m'\u001b[39m,\n\u001b[0;32m      2\u001b[0m                       max_depth\u001b[38;5;241m=\u001b[39m\u001b[38;5;28;01mNone\u001b[39;00m, max_features\u001b[38;5;241m=\u001b[39m\u001b[38;5;124m'\u001b[39m\u001b[38;5;124mauto\u001b[39m\u001b[38;5;124m'\u001b[39m, max_leaf_nodes\u001b[38;5;241m=\u001b[39m\u001b[38;5;28;01mNone\u001b[39;00m,\n\u001b[0;32m      3\u001b[0m                       max_samples\u001b[38;5;241m=\u001b[39m\u001b[38;5;28;01mNone\u001b[39;00m, min_impurity_decrease\u001b[38;5;241m=\u001b[39m\u001b[38;5;241m0.0\u001b[39m,\n\u001b[0;32m      4\u001b[0m                       min_impurity_split\u001b[38;5;241m=\u001b[39m\u001b[38;5;28;01mNone\u001b[39;00m, min_samples_leaf\u001b[38;5;241m=\u001b[39m\u001b[38;5;241m1\u001b[39m,\n\u001b[0;32m      5\u001b[0m                       min_samples_split\u001b[38;5;241m=\u001b[39m\u001b[38;5;28;01mNone\u001b[39;00m, min_weight_fraction_leaf\u001b[38;5;241m=\u001b[39m\u001b[38;5;241m0.0\u001b[39m,\n\u001b[0;32m      6\u001b[0m                       n_estimators\u001b[38;5;241m=\u001b[39m\u001b[38;5;241m100\u001b[39m, n_jobs\u001b[38;5;241m=\u001b[39m\u001b[38;5;28;01mNone\u001b[39;00m, oob_score\u001b[38;5;241m=\u001b[39m\u001b[38;5;28;01mFalse\u001b[39;00m,\n\u001b[0;32m      7\u001b[0m                       random_state\u001b[38;5;241m=\u001b[39m\u001b[38;5;28;01mNone\u001b[39;00m, verbose\u001b[38;5;241m=\u001b[39m\u001b[38;5;241m0\u001b[39m, warm_start\u001b[38;5;241m=\u001b[39m\u001b[38;5;28;01mFalse\u001b[39;00m)\n",
      "\u001b[1;31mTypeError\u001b[0m: RandomForestRegressor.__init__() got an unexpected keyword argument 'min_impurity_split'"
     ]
    }
   ],
   "source": [
    "RandomForestRegressor(bootstrap=True, ccp_alpha=0.0, criterion='mse',\n",
    "                      max_depth=None, max_features='auto', max_leaf_nodes=None,\n",
    "                      max_samples=None, min_impurity_decrease=0.0,\n",
    "                      min_impurity_split=None, min_samples_leaf=1,\n",
    "                      min_samples_split=None, min_weight_fraction_leaf=0.0,\n",
    "                      n_estimators=100, n_jobs=None, oob_score=False,\n",
    "                      random_state=None, verbose=0, warm_start=False)"
   ]
  },
  {
   "cell_type": "markdown",
   "metadata": {},
   "source": [
    "# Cross-Validation to Evaluate Model Performance"
   ]
  },
  {
   "cell_type": "code",
   "execution_count": null,
   "metadata": {},
   "outputs": [
    {
     "name": "stdout",
     "output_type": "stream",
     "text": [
      "Cross-validation scores: [0.99542857 0.99314286 0.98971429 0.98742857 0.98741419]\n",
      "Mean cross-validation score: 0.9906256946714613\n"
     ]
    }
   ],
   "source": [
    "from sklearn.model_selection import cross_val_score\n",
    "\n",
    "# Cross-validation to evaluate the model\n",
    "cv_scores = cross_val_score(rf_classifier, X_train, y_train, cv=5)\n",
    "\n",
    "print(\"Cross-validation scores:\", cv_scores)\n",
    "print(\"Mean cross-validation score:\", cv_scores.mean())\n"
   ]
  }
 ],
 "metadata": {
  "kernelspec": {
   "display_name": "base",
   "language": "python",
   "name": "python3"
  },
  "language_info": {
   "codemirror_mode": {
    "name": "ipython",
    "version": 3
   },
   "file_extension": ".py",
   "mimetype": "text/x-python",
   "name": "python",
   "nbconvert_exporter": "python",
   "pygments_lexer": "ipython3",
   "version": "3.11.5"
  }
 },
 "nbformat": 4,
 "nbformat_minor": 2
}
