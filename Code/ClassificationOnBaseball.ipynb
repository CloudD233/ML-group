{
 "cells": [
  {
   "cell_type": "code",
   "execution_count": 54,
   "id": "a2da8c32-5508-4687-a0c5-2d721069db6f",
   "metadata": {},
   "outputs": [],
   "source": [
    "import numpy as np \n",
    "import pandas as pd \n",
    "import matplotlib.pyplot as plt \n",
    "plt.rc(\"font\", size=14)\n",
    "import seaborn as sns\n",
    "sns.set(style=\"white\") #white background style for seaborn plots\n",
    "sns.set(style=\"whitegrid\", color_codes=True)"
   ]
  },
  {
   "cell_type": "code",
   "execution_count": 55,
   "id": "0dd5b827-cdfe-4757-a199-a173747ba5b5",
   "metadata": {},
   "outputs": [
    {
     "data": {
      "text/html": [
       "<div>\n",
       "<style scoped>\n",
       "    .dataframe tbody tr th:only-of-type {\n",
       "        vertical-align: middle;\n",
       "    }\n",
       "\n",
       "    .dataframe tbody tr th {\n",
       "        vertical-align: top;\n",
       "    }\n",
       "\n",
       "    .dataframe thead th {\n",
       "        text-align: right;\n",
       "    }\n",
       "</style>\n",
       "<table border=\"1\" class=\"dataframe\">\n",
       "  <thead>\n",
       "    <tr style=\"text-align: right;\">\n",
       "      <th></th>\n",
       "      <th>Unnamed: 0</th>\n",
       "      <th>JOIN</th>\n",
       "      <th>doubleheader</th>\n",
       "      <th>temperature_fahrenheit</th>\n",
       "      <th>season_game_number</th>\n",
       "      <th>days_since_last_game</th>\n",
       "      <th>pitches_p</th>\n",
       "      <th>ba_p</th>\n",
       "      <th>iso_p</th>\n",
       "      <th>babip_p</th>\n",
       "      <th>...</th>\n",
       "      <th>takes_h</th>\n",
       "      <th>eff_min_vel_h</th>\n",
       "      <th>release_extension_h</th>\n",
       "      <th>pitcher_run_exp_h</th>\n",
       "      <th>run_exp_h</th>\n",
       "      <th>duration</th>\n",
       "      <th>score</th>\n",
       "      <th>opp_score</th>\n",
       "      <th>opp_ScoreLine</th>\n",
       "      <th>winLoss_numeric</th>\n",
       "    </tr>\n",
       "  </thead>\n",
       "  <tbody>\n",
       "    <tr>\n",
       "      <th>0</th>\n",
       "      <td>0</td>\n",
       "      <td>45015BALDH0</td>\n",
       "      <td>0</td>\n",
       "      <td>38</td>\n",
       "      <td>1</td>\n",
       "      <td>1.0</td>\n",
       "      <td>153</td>\n",
       "      <td>0.324</td>\n",
       "      <td>0.118</td>\n",
       "      <td>0.407</td>\n",
       "      <td>...</td>\n",
       "      <td>113</td>\n",
       "      <td>-6.5</td>\n",
       "      <td>6.65</td>\n",
       "      <td>-5.5</td>\n",
       "      <td>5.5</td>\n",
       "      <td>190</td>\n",
       "      <td>10</td>\n",
       "      <td>9</td>\n",
       "      <td>100102032</td>\n",
       "      <td>1</td>\n",
       "    </tr>\n",
       "    <tr>\n",
       "      <th>1</th>\n",
       "      <td>1</td>\n",
       "      <td>45015BOSDH0</td>\n",
       "      <td>0</td>\n",
       "      <td>38</td>\n",
       "      <td>1</td>\n",
       "      <td>1.0</td>\n",
       "      <td>191</td>\n",
       "      <td>0.395</td>\n",
       "      <td>0.263</td>\n",
       "      <td>0.464</td>\n",
       "      <td>...</td>\n",
       "      <td>81</td>\n",
       "      <td>-2.7</td>\n",
       "      <td>6.52</td>\n",
       "      <td>-2.4</td>\n",
       "      <td>2.4</td>\n",
       "      <td>190</td>\n",
       "      <td>9</td>\n",
       "      <td>10</td>\n",
       "      <td>100430200</td>\n",
       "      <td>0</td>\n",
       "    </tr>\n",
       "    <tr>\n",
       "      <th>2</th>\n",
       "      <td>2</td>\n",
       "      <td>45015CHCDH0</td>\n",
       "      <td>0</td>\n",
       "      <td>42</td>\n",
       "      <td>1</td>\n",
       "      <td>1.0</td>\n",
       "      <td>133</td>\n",
       "      <td>0.138</td>\n",
       "      <td>0.000</td>\n",
       "      <td>0.235</td>\n",
       "      <td>...</td>\n",
       "      <td>65</td>\n",
       "      <td>0.5</td>\n",
       "      <td>6.47</td>\n",
       "      <td>0.6</td>\n",
       "      <td>-0.6</td>\n",
       "      <td>141</td>\n",
       "      <td>4</td>\n",
       "      <td>0</td>\n",
       "      <td>000000000</td>\n",
       "      <td>1</td>\n",
       "    </tr>\n",
       "    <tr>\n",
       "      <th>3</th>\n",
       "      <td>3</td>\n",
       "      <td>45015MILDH0</td>\n",
       "      <td>0</td>\n",
       "      <td>42</td>\n",
       "      <td>1</td>\n",
       "      <td>1.0</td>\n",
       "      <td>124</td>\n",
       "      <td>0.200</td>\n",
       "      <td>0.000</td>\n",
       "      <td>0.240</td>\n",
       "      <td>...</td>\n",
       "      <td>74</td>\n",
       "      <td>-0.3</td>\n",
       "      <td>5.91</td>\n",
       "      <td>4.9</td>\n",
       "      <td>-4.9</td>\n",
       "      <td>141</td>\n",
       "      <td>0</td>\n",
       "      <td>4</td>\n",
       "      <td>00400000x</td>\n",
       "      <td>0</td>\n",
       "    </tr>\n",
       "    <tr>\n",
       "      <th>4</th>\n",
       "      <td>4</td>\n",
       "      <td>45015CINDH0</td>\n",
       "      <td>0</td>\n",
       "      <td>61</td>\n",
       "      <td>1</td>\n",
       "      <td>1.0</td>\n",
       "      <td>178</td>\n",
       "      <td>0.200</td>\n",
       "      <td>0.133</td>\n",
       "      <td>0.263</td>\n",
       "      <td>...</td>\n",
       "      <td>91</td>\n",
       "      <td>0.2</td>\n",
       "      <td>6.43</td>\n",
       "      <td>0.1</td>\n",
       "      <td>-0.1</td>\n",
       "      <td>182</td>\n",
       "      <td>4</td>\n",
       "      <td>5</td>\n",
       "      <td>001300010</td>\n",
       "      <td>0</td>\n",
       "    </tr>\n",
       "    <tr>\n",
       "      <th>...</th>\n",
       "      <td>...</td>\n",
       "      <td>...</td>\n",
       "      <td>...</td>\n",
       "      <td>...</td>\n",
       "      <td>...</td>\n",
       "      <td>...</td>\n",
       "      <td>...</td>\n",
       "      <td>...</td>\n",
       "      <td>...</td>\n",
       "      <td>...</td>\n",
       "      <td>...</td>\n",
       "      <td>...</td>\n",
       "      <td>...</td>\n",
       "      <td>...</td>\n",
       "      <td>...</td>\n",
       "      <td>...</td>\n",
       "      <td>...</td>\n",
       "      <td>...</td>\n",
       "      <td>...</td>\n",
       "      <td>...</td>\n",
       "      <td>...</td>\n",
       "    </tr>\n",
       "    <tr>\n",
       "      <th>4855</th>\n",
       "      <td>4855</td>\n",
       "      <td>45200SFDH0</td>\n",
       "      <td>0</td>\n",
       "      <td>64</td>\n",
       "      <td>162</td>\n",
       "      <td>1.0</td>\n",
       "      <td>173</td>\n",
       "      <td>0.206</td>\n",
       "      <td>0.088</td>\n",
       "      <td>0.240</td>\n",
       "      <td>...</td>\n",
       "      <td>73</td>\n",
       "      <td>0.7</td>\n",
       "      <td>6.66</td>\n",
       "      <td>2.4</td>\n",
       "      <td>-2.4</td>\n",
       "      <td>164</td>\n",
       "      <td>2</td>\n",
       "      <td>5</td>\n",
       "      <td>000005000</td>\n",
       "      <td>0</td>\n",
       "    </tr>\n",
       "    <tr>\n",
       "      <th>4856</th>\n",
       "      <td>4856</td>\n",
       "      <td>45200TBDH0</td>\n",
       "      <td>0</td>\n",
       "      <td>79</td>\n",
       "      <td>162</td>\n",
       "      <td>1.0</td>\n",
       "      <td>155</td>\n",
       "      <td>0.300</td>\n",
       "      <td>0.225</td>\n",
       "      <td>0.344</td>\n",
       "      <td>...</td>\n",
       "      <td>87</td>\n",
       "      <td>0.2</td>\n",
       "      <td>6.57</td>\n",
       "      <td>-5.9</td>\n",
       "      <td>5.9</td>\n",
       "      <td>167</td>\n",
       "      <td>12</td>\n",
       "      <td>8</td>\n",
       "      <td>030003110</td>\n",
       "      <td>1</td>\n",
       "    </tr>\n",
       "    <tr>\n",
       "      <th>4857</th>\n",
       "      <td>4857</td>\n",
       "      <td>45200TORDH0</td>\n",
       "      <td>0</td>\n",
       "      <td>79</td>\n",
       "      <td>162</td>\n",
       "      <td>1.0</td>\n",
       "      <td>166</td>\n",
       "      <td>0.372</td>\n",
       "      <td>0.302</td>\n",
       "      <td>0.419</td>\n",
       "      <td>...</td>\n",
       "      <td>79</td>\n",
       "      <td>0.5</td>\n",
       "      <td>6.82</td>\n",
       "      <td>-3.1</td>\n",
       "      <td>3.1</td>\n",
       "      <td>167</td>\n",
       "      <td>8</td>\n",
       "      <td>12</td>\n",
       "      <td>170111100</td>\n",
       "      <td>0</td>\n",
       "    </tr>\n",
       "    <tr>\n",
       "      <th>4858</th>\n",
       "      <td>4858</td>\n",
       "      <td>45200ATLDH0</td>\n",
       "      <td>0</td>\n",
       "      <td>81</td>\n",
       "      <td>162</td>\n",
       "      <td>1.0</td>\n",
       "      <td>165</td>\n",
       "      <td>0.385</td>\n",
       "      <td>0.103</td>\n",
       "      <td>0.395</td>\n",
       "      <td>...</td>\n",
       "      <td>80</td>\n",
       "      <td>-0.2</td>\n",
       "      <td>6.27</td>\n",
       "      <td>-4.4</td>\n",
       "      <td>4.4</td>\n",
       "      <td>189</td>\n",
       "      <td>9</td>\n",
       "      <td>10</td>\n",
       "      <td>410000023</td>\n",
       "      <td>0</td>\n",
       "    </tr>\n",
       "    <tr>\n",
       "      <th>4859</th>\n",
       "      <td>4859</td>\n",
       "      <td>45200WSHDH0</td>\n",
       "      <td>0</td>\n",
       "      <td>81</td>\n",
       "      <td>162</td>\n",
       "      <td>1.0</td>\n",
       "      <td>167</td>\n",
       "      <td>0.289</td>\n",
       "      <td>0.237</td>\n",
       "      <td>0.321</td>\n",
       "      <td>...</td>\n",
       "      <td>83</td>\n",
       "      <td>0.3</td>\n",
       "      <td>6.55</td>\n",
       "      <td>-4.9</td>\n",
       "      <td>4.9</td>\n",
       "      <td>189</td>\n",
       "      <td>10</td>\n",
       "      <td>9</td>\n",
       "      <td>203000211</td>\n",
       "      <td>1</td>\n",
       "    </tr>\n",
       "  </tbody>\n",
       "</table>\n",
       "<p>4860 rows × 55 columns</p>\n",
       "</div>"
      ],
      "text/plain": [
       "      Unnamed: 0         JOIN  doubleheader  temperature_fahrenheit  \\\n",
       "0              0  45015BALDH0             0                      38   \n",
       "1              1  45015BOSDH0             0                      38   \n",
       "2              2  45015CHCDH0             0                      42   \n",
       "3              3  45015MILDH0             0                      42   \n",
       "4              4  45015CINDH0             0                      61   \n",
       "...          ...          ...           ...                     ...   \n",
       "4855        4855   45200SFDH0             0                      64   \n",
       "4856        4856   45200TBDH0             0                      79   \n",
       "4857        4857  45200TORDH0             0                      79   \n",
       "4858        4858  45200ATLDH0             0                      81   \n",
       "4859        4859  45200WSHDH0             0                      81   \n",
       "\n",
       "      season_game_number  days_since_last_game  pitches_p   ba_p  iso_p  \\\n",
       "0                      1                   1.0        153  0.324  0.118   \n",
       "1                      1                   1.0        191  0.395  0.263   \n",
       "2                      1                   1.0        133  0.138  0.000   \n",
       "3                      1                   1.0        124  0.200  0.000   \n",
       "4                      1                   1.0        178  0.200  0.133   \n",
       "...                  ...                   ...        ...    ...    ...   \n",
       "4855                 162                   1.0        173  0.206  0.088   \n",
       "4856                 162                   1.0        155  0.300  0.225   \n",
       "4857                 162                   1.0        166  0.372  0.302   \n",
       "4858                 162                   1.0        165  0.385  0.103   \n",
       "4859                 162                   1.0        167  0.289  0.237   \n",
       "\n",
       "      babip_p  ...  takes_h  eff_min_vel_h  release_extension_h  \\\n",
       "0       0.407  ...      113           -6.5                 6.65   \n",
       "1       0.464  ...       81           -2.7                 6.52   \n",
       "2       0.235  ...       65            0.5                 6.47   \n",
       "3       0.240  ...       74           -0.3                 5.91   \n",
       "4       0.263  ...       91            0.2                 6.43   \n",
       "...       ...  ...      ...            ...                  ...   \n",
       "4855    0.240  ...       73            0.7                 6.66   \n",
       "4856    0.344  ...       87            0.2                 6.57   \n",
       "4857    0.419  ...       79            0.5                 6.82   \n",
       "4858    0.395  ...       80           -0.2                 6.27   \n",
       "4859    0.321  ...       83            0.3                 6.55   \n",
       "\n",
       "      pitcher_run_exp_h  run_exp_h  duration  score  opp_score  opp_ScoreLine  \\\n",
       "0                  -5.5        5.5       190     10          9      100102032   \n",
       "1                  -2.4        2.4       190      9         10      100430200   \n",
       "2                   0.6       -0.6       141      4          0      000000000   \n",
       "3                   4.9       -4.9       141      0          4      00400000x   \n",
       "4                   0.1       -0.1       182      4          5      001300010   \n",
       "...                 ...        ...       ...    ...        ...            ...   \n",
       "4855                2.4       -2.4       164      2          5      000005000   \n",
       "4856               -5.9        5.9       167     12          8      030003110   \n",
       "4857               -3.1        3.1       167      8         12      170111100   \n",
       "4858               -4.4        4.4       189      9         10      410000023   \n",
       "4859               -4.9        4.9       189     10          9      203000211   \n",
       "\n",
       "      winLoss_numeric  \n",
       "0                   1  \n",
       "1                   0  \n",
       "2                   1  \n",
       "3                   0  \n",
       "4                   0  \n",
       "...               ...  \n",
       "4855                0  \n",
       "4856                1  \n",
       "4857                0  \n",
       "4858                0  \n",
       "4859                1  \n",
       "\n",
       "[4860 rows x 55 columns]"
      ]
     },
     "execution_count": 55,
     "metadata": {},
     "output_type": "execute_result"
    }
   ],
   "source": [
    "baseball_df = pd.read_csv('data/cleanedFull.csv')\n",
    "baseball_df"
   ]
  },
  {
   "cell_type": "code",
   "execution_count": 56,
   "id": "1a05cf40-8470-4b79-a52b-465bf3f04950",
   "metadata": {},
   "outputs": [
    {
     "name": "stdout",
     "output_type": "stream",
     "text": [
      "Columns of the baseball_df dataframe:\n",
      "Unnamed: 0\n",
      "JOIN\n",
      "doubleheader\n",
      "temperature_fahrenheit\n",
      "season_game_number\n",
      "days_since_last_game\n",
      "pitches_p\n",
      "ba_p\n",
      "iso_p\n",
      "babip_p\n",
      "slg_p\n",
      "woba_p\n",
      "xwoba_p\n",
      "xba_p\n",
      "hits_p\n",
      "abs_p\n",
      "launch_speed_p\n",
      "launch_angle_p\n",
      "spin_rate_p\n",
      "velocity_p\n",
      "effective_speed_p\n",
      "whiffs_p\n",
      "swings_p\n",
      "takes_p\n",
      "eff_min_vel_p\n",
      "release_extension_p\n",
      "pitcher_run_exp_p\n",
      "run_exp_p\n",
      "pitches_h\n",
      "ba_h\n",
      "iso_h\n",
      "babip_h\n",
      "slg_h\n",
      "woba_h\n",
      "xwoba_h\n",
      "xba_h\n",
      "hits_h\n",
      "abs_h\n",
      "launch_speed_h\n",
      "launch_angle_h\n",
      "spin_rate_h\n",
      "velocity_h\n",
      "effective_speed_h\n",
      "whiffs_h\n",
      "swings_h\n",
      "takes_h\n",
      "eff_min_vel_h\n",
      "release_extension_h\n",
      "pitcher_run_exp_h\n",
      "run_exp_h\n",
      "duration\n",
      "score\n",
      "opp_score\n",
      "opp_ScoreLine\n",
      "winLoss_numeric\n"
     ]
    }
   ],
   "source": [
    "columns_list = baseball_df.columns.tolist()\n",
    "\n",
    "print(\"Columns of the baseball_df dataframe:\")\n",
    "for column in columns_list:\n",
    "    print(column)"
   ]
  },
  {
   "cell_type": "code",
   "execution_count": null,
   "id": "9170a7be-fd02-48cd-83a2-2a970ff39392",
   "metadata": {},
   "outputs": [],
   "source": [
    "baseball_df['score-run_exp_p'] = baseball_df['score'] - baseball_df['run_exp_p']"
   ]
  },
  {
   "cell_type": "code",
   "execution_count": null,
   "id": "b2b1dfba-d4a1-46ff-9df1-88f8f416d1d6",
   "metadata": {},
   "outputs": [],
   "source": [
    "baseball_df['score-run_exp_p']"
   ]
  },
  {
   "cell_type": "code",
   "execution_count": 88,
   "id": "022c8e5a-1ca5-418b-99e7-6c66ee941aa9",
   "metadata": {},
   "outputs": [],
   "source": [
    "baseball_df['score-run_exp_p-woba_p'] = baseball_df['score-run_exp_p'] - baseball_df['woba_p']"
   ]
  },
  {
   "cell_type": "code",
   "execution_count": 89,
   "id": "69f7015f-2595-4826-aee6-602c10fe8ef7",
   "metadata": {},
   "outputs": [],
   "source": [
    "#Splitting the data into a training set and a testing set\n",
    "from sklearn.model_selection import train_test_split\n",
    "train_set, test_set = train_test_split(baseball_df, test_size=0.2, random_state=42)"
   ]
  },
  {
   "cell_type": "code",
   "execution_count": 90,
   "id": "b25c7235-25ff-4f95-bccd-27abc34b6c0c",
   "metadata": {},
   "outputs": [],
   "source": [
    "x_train = train_set[['score']]\n",
    "y_train = train_set[['winLoss_numeric']]\n",
    "\n",
    "x_test = test_set[['score']]\n",
    "y_test = test_set[['winLoss_numeric']]"
   ]
  },
  {
   "cell_type": "code",
   "execution_count": 91,
   "id": "66679717-8bab-4379-ac24-1f5acd96bd83",
   "metadata": {},
   "outputs": [],
   "source": [
    "y_train_1 = (y_train == 1).to_numpy().ravel()\n",
    "y_test_1 = (y_test == 1).to_numpy().ravel()"
   ]
  },
  {
   "cell_type": "code",
   "execution_count": 92,
   "id": "81eb07a5-bc62-452c-b8ef-6b488161abff",
   "metadata": {},
   "outputs": [
    {
     "data": {
      "text/html": [
       "<style>#sk-container-id-4 {\n",
       "  /* Definition of color scheme common for light and dark mode */\n",
       "  --sklearn-color-text: black;\n",
       "  --sklearn-color-line: gray;\n",
       "  /* Definition of color scheme for unfitted estimators */\n",
       "  --sklearn-color-unfitted-level-0: #fff5e6;\n",
       "  --sklearn-color-unfitted-level-1: #f6e4d2;\n",
       "  --sklearn-color-unfitted-level-2: #ffe0b3;\n",
       "  --sklearn-color-unfitted-level-3: chocolate;\n",
       "  /* Definition of color scheme for fitted estimators */\n",
       "  --sklearn-color-fitted-level-0: #f0f8ff;\n",
       "  --sklearn-color-fitted-level-1: #d4ebff;\n",
       "  --sklearn-color-fitted-level-2: #b3dbfd;\n",
       "  --sklearn-color-fitted-level-3: cornflowerblue;\n",
       "\n",
       "  /* Specific color for light theme */\n",
       "  --sklearn-color-text-on-default-background: var(--sg-text-color, var(--theme-code-foreground, var(--jp-content-font-color1, black)));\n",
       "  --sklearn-color-background: var(--sg-background-color, var(--theme-background, var(--jp-layout-color0, white)));\n",
       "  --sklearn-color-border-box: var(--sg-text-color, var(--theme-code-foreground, var(--jp-content-font-color1, black)));\n",
       "  --sklearn-color-icon: #696969;\n",
       "\n",
       "  @media (prefers-color-scheme: dark) {\n",
       "    /* Redefinition of color scheme for dark theme */\n",
       "    --sklearn-color-text-on-default-background: var(--sg-text-color, var(--theme-code-foreground, var(--jp-content-font-color1, white)));\n",
       "    --sklearn-color-background: var(--sg-background-color, var(--theme-background, var(--jp-layout-color0, #111)));\n",
       "    --sklearn-color-border-box: var(--sg-text-color, var(--theme-code-foreground, var(--jp-content-font-color1, white)));\n",
       "    --sklearn-color-icon: #878787;\n",
       "  }\n",
       "}\n",
       "\n",
       "#sk-container-id-4 {\n",
       "  color: var(--sklearn-color-text);\n",
       "}\n",
       "\n",
       "#sk-container-id-4 pre {\n",
       "  padding: 0;\n",
       "}\n",
       "\n",
       "#sk-container-id-4 input.sk-hidden--visually {\n",
       "  border: 0;\n",
       "  clip: rect(1px 1px 1px 1px);\n",
       "  clip: rect(1px, 1px, 1px, 1px);\n",
       "  height: 1px;\n",
       "  margin: -1px;\n",
       "  overflow: hidden;\n",
       "  padding: 0;\n",
       "  position: absolute;\n",
       "  width: 1px;\n",
       "}\n",
       "\n",
       "#sk-container-id-4 div.sk-dashed-wrapped {\n",
       "  border: 1px dashed var(--sklearn-color-line);\n",
       "  margin: 0 0.4em 0.5em 0.4em;\n",
       "  box-sizing: border-box;\n",
       "  padding-bottom: 0.4em;\n",
       "  background-color: var(--sklearn-color-background);\n",
       "}\n",
       "\n",
       "#sk-container-id-4 div.sk-container {\n",
       "  /* jupyter's `normalize.less` sets `[hidden] { display: none; }`\n",
       "     but bootstrap.min.css set `[hidden] { display: none !important; }`\n",
       "     so we also need the `!important` here to be able to override the\n",
       "     default hidden behavior on the sphinx rendered scikit-learn.org.\n",
       "     See: https://github.com/scikit-learn/scikit-learn/issues/21755 */\n",
       "  display: inline-block !important;\n",
       "  position: relative;\n",
       "}\n",
       "\n",
       "#sk-container-id-4 div.sk-text-repr-fallback {\n",
       "  display: none;\n",
       "}\n",
       "\n",
       "div.sk-parallel-item,\n",
       "div.sk-serial,\n",
       "div.sk-item {\n",
       "  /* draw centered vertical line to link estimators */\n",
       "  background-image: linear-gradient(var(--sklearn-color-text-on-default-background), var(--sklearn-color-text-on-default-background));\n",
       "  background-size: 2px 100%;\n",
       "  background-repeat: no-repeat;\n",
       "  background-position: center center;\n",
       "}\n",
       "\n",
       "/* Parallel-specific style estimator block */\n",
       "\n",
       "#sk-container-id-4 div.sk-parallel-item::after {\n",
       "  content: \"\";\n",
       "  width: 100%;\n",
       "  border-bottom: 2px solid var(--sklearn-color-text-on-default-background);\n",
       "  flex-grow: 1;\n",
       "}\n",
       "\n",
       "#sk-container-id-4 div.sk-parallel {\n",
       "  display: flex;\n",
       "  align-items: stretch;\n",
       "  justify-content: center;\n",
       "  background-color: var(--sklearn-color-background);\n",
       "  position: relative;\n",
       "}\n",
       "\n",
       "#sk-container-id-4 div.sk-parallel-item {\n",
       "  display: flex;\n",
       "  flex-direction: column;\n",
       "}\n",
       "\n",
       "#sk-container-id-4 div.sk-parallel-item:first-child::after {\n",
       "  align-self: flex-end;\n",
       "  width: 50%;\n",
       "}\n",
       "\n",
       "#sk-container-id-4 div.sk-parallel-item:last-child::after {\n",
       "  align-self: flex-start;\n",
       "  width: 50%;\n",
       "}\n",
       "\n",
       "#sk-container-id-4 div.sk-parallel-item:only-child::after {\n",
       "  width: 0;\n",
       "}\n",
       "\n",
       "/* Serial-specific style estimator block */\n",
       "\n",
       "#sk-container-id-4 div.sk-serial {\n",
       "  display: flex;\n",
       "  flex-direction: column;\n",
       "  align-items: center;\n",
       "  background-color: var(--sklearn-color-background);\n",
       "  padding-right: 1em;\n",
       "  padding-left: 1em;\n",
       "}\n",
       "\n",
       "\n",
       "/* Toggleable style: style used for estimator/Pipeline/ColumnTransformer box that is\n",
       "clickable and can be expanded/collapsed.\n",
       "- Pipeline and ColumnTransformer use this feature and define the default style\n",
       "- Estimators will overwrite some part of the style using the `sk-estimator` class\n",
       "*/\n",
       "\n",
       "/* Pipeline and ColumnTransformer style (default) */\n",
       "\n",
       "#sk-container-id-4 div.sk-toggleable {\n",
       "  /* Default theme specific background. It is overwritten whether we have a\n",
       "  specific estimator or a Pipeline/ColumnTransformer */\n",
       "  background-color: var(--sklearn-color-background);\n",
       "}\n",
       "\n",
       "/* Toggleable label */\n",
       "#sk-container-id-4 label.sk-toggleable__label {\n",
       "  cursor: pointer;\n",
       "  display: block;\n",
       "  width: 100%;\n",
       "  margin-bottom: 0;\n",
       "  padding: 0.5em;\n",
       "  box-sizing: border-box;\n",
       "  text-align: center;\n",
       "}\n",
       "\n",
       "#sk-container-id-4 label.sk-toggleable__label-arrow:before {\n",
       "  /* Arrow on the left of the label */\n",
       "  content: \"▸\";\n",
       "  float: left;\n",
       "  margin-right: 0.25em;\n",
       "  color: var(--sklearn-color-icon);\n",
       "}\n",
       "\n",
       "#sk-container-id-4 label.sk-toggleable__label-arrow:hover:before {\n",
       "  color: var(--sklearn-color-text);\n",
       "}\n",
       "\n",
       "/* Toggleable content - dropdown */\n",
       "\n",
       "#sk-container-id-4 div.sk-toggleable__content {\n",
       "  max-height: 0;\n",
       "  max-width: 0;\n",
       "  overflow: hidden;\n",
       "  text-align: left;\n",
       "  /* unfitted */\n",
       "  background-color: var(--sklearn-color-unfitted-level-0);\n",
       "}\n",
       "\n",
       "#sk-container-id-4 div.sk-toggleable__content.fitted {\n",
       "  /* fitted */\n",
       "  background-color: var(--sklearn-color-fitted-level-0);\n",
       "}\n",
       "\n",
       "#sk-container-id-4 div.sk-toggleable__content pre {\n",
       "  margin: 0.2em;\n",
       "  border-radius: 0.25em;\n",
       "  color: var(--sklearn-color-text);\n",
       "  /* unfitted */\n",
       "  background-color: var(--sklearn-color-unfitted-level-0);\n",
       "}\n",
       "\n",
       "#sk-container-id-4 div.sk-toggleable__content.fitted pre {\n",
       "  /* unfitted */\n",
       "  background-color: var(--sklearn-color-fitted-level-0);\n",
       "}\n",
       "\n",
       "#sk-container-id-4 input.sk-toggleable__control:checked~div.sk-toggleable__content {\n",
       "  /* Expand drop-down */\n",
       "  max-height: 200px;\n",
       "  max-width: 100%;\n",
       "  overflow: auto;\n",
       "}\n",
       "\n",
       "#sk-container-id-4 input.sk-toggleable__control:checked~label.sk-toggleable__label-arrow:before {\n",
       "  content: \"▾\";\n",
       "}\n",
       "\n",
       "/* Pipeline/ColumnTransformer-specific style */\n",
       "\n",
       "#sk-container-id-4 div.sk-label input.sk-toggleable__control:checked~label.sk-toggleable__label {\n",
       "  color: var(--sklearn-color-text);\n",
       "  background-color: var(--sklearn-color-unfitted-level-2);\n",
       "}\n",
       "\n",
       "#sk-container-id-4 div.sk-label.fitted input.sk-toggleable__control:checked~label.sk-toggleable__label {\n",
       "  background-color: var(--sklearn-color-fitted-level-2);\n",
       "}\n",
       "\n",
       "/* Estimator-specific style */\n",
       "\n",
       "/* Colorize estimator box */\n",
       "#sk-container-id-4 div.sk-estimator input.sk-toggleable__control:checked~label.sk-toggleable__label {\n",
       "  /* unfitted */\n",
       "  background-color: var(--sklearn-color-unfitted-level-2);\n",
       "}\n",
       "\n",
       "#sk-container-id-4 div.sk-estimator.fitted input.sk-toggleable__control:checked~label.sk-toggleable__label {\n",
       "  /* fitted */\n",
       "  background-color: var(--sklearn-color-fitted-level-2);\n",
       "}\n",
       "\n",
       "#sk-container-id-4 div.sk-label label.sk-toggleable__label,\n",
       "#sk-container-id-4 div.sk-label label {\n",
       "  /* The background is the default theme color */\n",
       "  color: var(--sklearn-color-text-on-default-background);\n",
       "}\n",
       "\n",
       "/* On hover, darken the color of the background */\n",
       "#sk-container-id-4 div.sk-label:hover label.sk-toggleable__label {\n",
       "  color: var(--sklearn-color-text);\n",
       "  background-color: var(--sklearn-color-unfitted-level-2);\n",
       "}\n",
       "\n",
       "/* Label box, darken color on hover, fitted */\n",
       "#sk-container-id-4 div.sk-label.fitted:hover label.sk-toggleable__label.fitted {\n",
       "  color: var(--sklearn-color-text);\n",
       "  background-color: var(--sklearn-color-fitted-level-2);\n",
       "}\n",
       "\n",
       "/* Estimator label */\n",
       "\n",
       "#sk-container-id-4 div.sk-label label {\n",
       "  font-family: monospace;\n",
       "  font-weight: bold;\n",
       "  display: inline-block;\n",
       "  line-height: 1.2em;\n",
       "}\n",
       "\n",
       "#sk-container-id-4 div.sk-label-container {\n",
       "  text-align: center;\n",
       "}\n",
       "\n",
       "/* Estimator-specific */\n",
       "#sk-container-id-4 div.sk-estimator {\n",
       "  font-family: monospace;\n",
       "  border: 1px dotted var(--sklearn-color-border-box);\n",
       "  border-radius: 0.25em;\n",
       "  box-sizing: border-box;\n",
       "  margin-bottom: 0.5em;\n",
       "  /* unfitted */\n",
       "  background-color: var(--sklearn-color-unfitted-level-0);\n",
       "}\n",
       "\n",
       "#sk-container-id-4 div.sk-estimator.fitted {\n",
       "  /* fitted */\n",
       "  background-color: var(--sklearn-color-fitted-level-0);\n",
       "}\n",
       "\n",
       "/* on hover */\n",
       "#sk-container-id-4 div.sk-estimator:hover {\n",
       "  /* unfitted */\n",
       "  background-color: var(--sklearn-color-unfitted-level-2);\n",
       "}\n",
       "\n",
       "#sk-container-id-4 div.sk-estimator.fitted:hover {\n",
       "  /* fitted */\n",
       "  background-color: var(--sklearn-color-fitted-level-2);\n",
       "}\n",
       "\n",
       "/* Specification for estimator info (e.g. \"i\" and \"?\") */\n",
       "\n",
       "/* Common style for \"i\" and \"?\" */\n",
       "\n",
       ".sk-estimator-doc-link,\n",
       "a:link.sk-estimator-doc-link,\n",
       "a:visited.sk-estimator-doc-link {\n",
       "  float: right;\n",
       "  font-size: smaller;\n",
       "  line-height: 1em;\n",
       "  font-family: monospace;\n",
       "  background-color: var(--sklearn-color-background);\n",
       "  border-radius: 1em;\n",
       "  height: 1em;\n",
       "  width: 1em;\n",
       "  text-decoration: none !important;\n",
       "  margin-left: 1ex;\n",
       "  /* unfitted */\n",
       "  border: var(--sklearn-color-unfitted-level-1) 1pt solid;\n",
       "  color: var(--sklearn-color-unfitted-level-1);\n",
       "}\n",
       "\n",
       ".sk-estimator-doc-link.fitted,\n",
       "a:link.sk-estimator-doc-link.fitted,\n",
       "a:visited.sk-estimator-doc-link.fitted {\n",
       "  /* fitted */\n",
       "  border: var(--sklearn-color-fitted-level-1) 1pt solid;\n",
       "  color: var(--sklearn-color-fitted-level-1);\n",
       "}\n",
       "\n",
       "/* On hover */\n",
       "div.sk-estimator:hover .sk-estimator-doc-link:hover,\n",
       ".sk-estimator-doc-link:hover,\n",
       "div.sk-label-container:hover .sk-estimator-doc-link:hover,\n",
       ".sk-estimator-doc-link:hover {\n",
       "  /* unfitted */\n",
       "  background-color: var(--sklearn-color-unfitted-level-3);\n",
       "  color: var(--sklearn-color-background);\n",
       "  text-decoration: none;\n",
       "}\n",
       "\n",
       "div.sk-estimator.fitted:hover .sk-estimator-doc-link.fitted:hover,\n",
       ".sk-estimator-doc-link.fitted:hover,\n",
       "div.sk-label-container:hover .sk-estimator-doc-link.fitted:hover,\n",
       ".sk-estimator-doc-link.fitted:hover {\n",
       "  /* fitted */\n",
       "  background-color: var(--sklearn-color-fitted-level-3);\n",
       "  color: var(--sklearn-color-background);\n",
       "  text-decoration: none;\n",
       "}\n",
       "\n",
       "/* Span, style for the box shown on hovering the info icon */\n",
       ".sk-estimator-doc-link span {\n",
       "  display: none;\n",
       "  z-index: 9999;\n",
       "  position: relative;\n",
       "  font-weight: normal;\n",
       "  right: .2ex;\n",
       "  padding: .5ex;\n",
       "  margin: .5ex;\n",
       "  width: min-content;\n",
       "  min-width: 20ex;\n",
       "  max-width: 50ex;\n",
       "  color: var(--sklearn-color-text);\n",
       "  box-shadow: 2pt 2pt 4pt #999;\n",
       "  /* unfitted */\n",
       "  background: var(--sklearn-color-unfitted-level-0);\n",
       "  border: .5pt solid var(--sklearn-color-unfitted-level-3);\n",
       "}\n",
       "\n",
       ".sk-estimator-doc-link.fitted span {\n",
       "  /* fitted */\n",
       "  background: var(--sklearn-color-fitted-level-0);\n",
       "  border: var(--sklearn-color-fitted-level-3);\n",
       "}\n",
       "\n",
       ".sk-estimator-doc-link:hover span {\n",
       "  display: block;\n",
       "}\n",
       "\n",
       "/* \"?\"-specific style due to the `<a>` HTML tag */\n",
       "\n",
       "#sk-container-id-4 a.estimator_doc_link {\n",
       "  float: right;\n",
       "  font-size: 1rem;\n",
       "  line-height: 1em;\n",
       "  font-family: monospace;\n",
       "  background-color: var(--sklearn-color-background);\n",
       "  border-radius: 1rem;\n",
       "  height: 1rem;\n",
       "  width: 1rem;\n",
       "  text-decoration: none;\n",
       "  /* unfitted */\n",
       "  color: var(--sklearn-color-unfitted-level-1);\n",
       "  border: var(--sklearn-color-unfitted-level-1) 1pt solid;\n",
       "}\n",
       "\n",
       "#sk-container-id-4 a.estimator_doc_link.fitted {\n",
       "  /* fitted */\n",
       "  border: var(--sklearn-color-fitted-level-1) 1pt solid;\n",
       "  color: var(--sklearn-color-fitted-level-1);\n",
       "}\n",
       "\n",
       "/* On hover */\n",
       "#sk-container-id-4 a.estimator_doc_link:hover {\n",
       "  /* unfitted */\n",
       "  background-color: var(--sklearn-color-unfitted-level-3);\n",
       "  color: var(--sklearn-color-background);\n",
       "  text-decoration: none;\n",
       "}\n",
       "\n",
       "#sk-container-id-4 a.estimator_doc_link.fitted:hover {\n",
       "  /* fitted */\n",
       "  background-color: var(--sklearn-color-fitted-level-3);\n",
       "}\n",
       "</style><div id=\"sk-container-id-4\" class=\"sk-top-container\"><div class=\"sk-text-repr-fallback\"><pre>SGDClassifier(random_state=42)</pre><b>In a Jupyter environment, please rerun this cell to show the HTML representation or trust the notebook. <br />On GitHub, the HTML representation is unable to render, please try loading this page with nbviewer.org.</b></div><div class=\"sk-container\" hidden><div class=\"sk-item\"><div class=\"sk-estimator fitted sk-toggleable\"><input class=\"sk-toggleable__control sk-hidden--visually\" id=\"sk-estimator-id-4\" type=\"checkbox\" checked><label for=\"sk-estimator-id-4\" class=\"sk-toggleable__label fitted sk-toggleable__label-arrow fitted\">&nbsp;&nbsp;SGDClassifier<a class=\"sk-estimator-doc-link fitted\" rel=\"noreferrer\" target=\"_blank\" href=\"https://scikit-learn.org/1.4/modules/generated/sklearn.linear_model.SGDClassifier.html\">?<span>Documentation for SGDClassifier</span></a><span class=\"sk-estimator-doc-link fitted\">i<span>Fitted</span></span></label><div class=\"sk-toggleable__content fitted\"><pre>SGDClassifier(random_state=42)</pre></div> </div></div></div></div>"
      ],
      "text/plain": [
       "SGDClassifier(random_state=42)"
      ]
     },
     "execution_count": 92,
     "metadata": {},
     "output_type": "execute_result"
    }
   ],
   "source": [
    "#Binary Classifier looked like the best choice since we are attempting to predict a binary attitude\n",
    "from sklearn.linear_model import SGDClassifier\n",
    "\n",
    "sgd_clf = SGDClassifier(random_state=42)\n",
    "sgd_clf.fit(x_train, y_train_1)"
   ]
  },
  {
   "cell_type": "code",
   "execution_count": 93,
   "id": "3423a071-4323-402d-86ac-abd27d872c5a",
   "metadata": {},
   "outputs": [
    {
     "data": {
      "text/plain": [
       "array([0.76929012, 0.75154321, 0.75308642])"
      ]
     },
     "execution_count": 93,
     "metadata": {},
     "output_type": "execute_result"
    }
   ],
   "source": [
    "from sklearn.model_selection import cross_val_score\n",
    "\n",
    "cross_val_score(sgd_clf, x_train, y_train_1, cv=3, scoring=\"accuracy\")"
   ]
  },
  {
   "cell_type": "code",
   "execution_count": 94,
   "id": "6201628d-b6f2-4e49-97f7-f3e182a8b120",
   "metadata": {},
   "outputs": [],
   "source": [
    "from sklearn.model_selection import cross_val_predict\n",
    "\n",
    "y_train_pred = cross_val_predict(sgd_clf, x_train, y_train_1, cv=3)"
   ]
  },
  {
   "cell_type": "code",
   "execution_count": 95,
   "id": "5f9a1062-8639-4adb-a6dc-70791a2afa60",
   "metadata": {},
   "outputs": [
    {
     "data": {
      "text/plain": [
       "array([[1397,  527],\n",
       "       [ 414, 1550]], dtype=int64)"
      ]
     },
     "execution_count": 95,
     "metadata": {},
     "output_type": "execute_result"
    }
   ],
   "source": [
    "from sklearn.metrics import confusion_matrix\n",
    "\n",
    "cm = confusion_matrix(y_train_1, y_train_pred)\n",
    "cm"
   ]
  },
  {
   "cell_type": "code",
   "execution_count": 96,
   "id": "2f8ffacf-2fe1-4e1b-a54d-9d173db5f89d",
   "metadata": {},
   "outputs": [
    {
     "name": "stdout",
     "output_type": "stream",
     "text": [
      "Accuracy of the binary classifier = 0.758\n"
     ]
    }
   ],
   "source": [
    "#This means that given the Home team's score the model can accurately predict the winner almost 75% of the time\n",
    "TN, FP, FN, TP = confusion_matrix(y_train_1, y_train_pred).ravel()\n",
    "accuracy =  (TP + TN) / (TP + FP + TN + FN)\n",
    "\n",
    "print('Accuracy of the binary classifier = {:0.3f}'.format(accuracy))"
   ]
  },
  {
   "cell_type": "code",
   "execution_count": 97,
   "id": "311f76a2-6380-4b66-8055-f58ff3aa1cfd",
   "metadata": {},
   "outputs": [
    {
     "data": {
      "text/plain": [
       "0.746268656716418"
      ]
     },
     "execution_count": 97,
     "metadata": {},
     "output_type": "execute_result"
    }
   ],
   "source": [
    "#Get a precision score from the predicted values\n",
    "from sklearn.metrics import precision_score, recall_score\n",
    "\n",
    "precision_score(y_train_1, y_train_pred) "
   ]
  },
  {
   "cell_type": "code",
   "execution_count": 98,
   "id": "ea492c31-93e2-4dc4-b228-f8ee0f7aacb8",
   "metadata": {},
   "outputs": [
    {
     "data": {
      "text/plain": [
       "0.7892057026476579"
      ]
     },
     "execution_count": 98,
     "metadata": {},
     "output_type": "execute_result"
    }
   ],
   "source": [
    "#Get a recall score from the predicted values\n",
    "recall_score(y_train_1, y_train_pred)"
   ]
  },
  {
   "cell_type": "code",
   "execution_count": 99,
   "id": "4195ce35-52ef-42cc-827d-95d3e4ae1531",
   "metadata": {},
   "outputs": [
    {
     "data": {
      "text/plain": [
       "0.7671368473150211"
      ]
     },
     "execution_count": 99,
     "metadata": {},
     "output_type": "execute_result"
    }
   ],
   "source": [
    "#Get the f1 score from the predicted values. Overall the score was pretty okay but could be improved on greatly\n",
    "from sklearn.metrics import f1_score\n",
    "\n",
    "f1_score(y_train_1, y_train_pred)"
   ]
  },
  {
   "cell_type": "code",
   "execution_count": 100,
   "id": "afa2cd67-8523-403e-8bf3-7e882d690299",
   "metadata": {},
   "outputs": [],
   "source": [
    "#We will now look attempt to predict the win based on runs expected\n",
    "x_train2 = train_set[['run_exp_p']]\n",
    "\n",
    "x_test2 = test_set[['run_exp_p']]"
   ]
  },
  {
   "cell_type": "code",
   "execution_count": 101,
   "id": "3341e75f-394d-4721-b175-e33ca455810a",
   "metadata": {},
   "outputs": [
    {
     "data": {
      "text/plain": [
       "array([0.7492284 , 0.75617284, 0.75308642])"
      ]
     },
     "execution_count": 101,
     "metadata": {},
     "output_type": "execute_result"
    }
   ],
   "source": [
    "cross_val_score(sgd_clf, x_train2, y_train_1, cv=3, scoring=\"accuracy\")"
   ]
  },
  {
   "cell_type": "code",
   "execution_count": 102,
   "id": "3532bbc7-1f3b-4436-a525-30fb51de9239",
   "metadata": {},
   "outputs": [],
   "source": [
    "y_train_pred2 = cross_val_predict(sgd_clf, x_train2, y_train_1, cv=3)"
   ]
  },
  {
   "cell_type": "code",
   "execution_count": 103,
   "id": "78c9bd81-ee4e-417d-a0ab-485f724d068b",
   "metadata": {},
   "outputs": [
    {
     "data": {
      "text/plain": [
       "array([[1330,  594],\n",
       "       [ 367, 1597]], dtype=int64)"
      ]
     },
     "execution_count": 103,
     "metadata": {},
     "output_type": "execute_result"
    }
   ],
   "source": [
    "cm = confusion_matrix(y_train_1, y_train_pred2)\n",
    "cm"
   ]
  },
  {
   "cell_type": "code",
   "execution_count": 104,
   "id": "49e5c3df-2378-498a-abf8-22e59a28da67",
   "metadata": {},
   "outputs": [
    {
     "name": "stdout",
     "output_type": "stream",
     "text": [
      "Accuracy of the binary classifier = 0.753\n"
     ]
    }
   ],
   "source": [
    "TN2, FP2, FN2, TP2 = confusion_matrix(y_train_1, y_train_pred2).ravel()\n",
    "accuracy =  (TP2 + TN2) / (TP2 + FP2 + TN2 + FN2)\n",
    "\n",
    "print('Accuracy of the binary classifier = {:0.3f}'.format(accuracy))"
   ]
  },
  {
   "cell_type": "code",
   "execution_count": 105,
   "id": "37245ef8-d01d-47eb-93de-60184dd68ae1",
   "metadata": {},
   "outputs": [
    {
     "data": {
      "text/plain": [
       "0.72889091738932"
      ]
     },
     "execution_count": 105,
     "metadata": {},
     "output_type": "execute_result"
    }
   ],
   "source": [
    "precision_score(y_train_1, y_train_pred2) "
   ]
  },
  {
   "cell_type": "code",
   "execution_count": 106,
   "id": "60eee1c2-c56d-4b11-8bff-bb5965bcbebe",
   "metadata": {},
   "outputs": [
    {
     "data": {
      "text/plain": [
       "0.8131364562118126"
      ]
     },
     "execution_count": 106,
     "metadata": {},
     "output_type": "execute_result"
    }
   ],
   "source": [
    "recall_score(y_train_1, y_train_pred2)"
   ]
  },
  {
   "cell_type": "code",
   "execution_count": 107,
   "id": "103cb9bc-8b54-4c02-b58f-21873b68b4c9",
   "metadata": {},
   "outputs": [
    {
     "data": {
      "text/plain": [
       "0.7687123947051745"
      ]
     },
     "execution_count": 107,
     "metadata": {},
     "output_type": "execute_result"
    }
   ],
   "source": [
    "f1_score(y_train_1, y_train_pred2)"
   ]
  },
  {
   "cell_type": "code",
   "execution_count": 108,
   "id": "65eb697b-1a0a-41a2-9480-9c026517ba0e",
   "metadata": {},
   "outputs": [],
   "source": [
    "x_train3 = train_set[['score-run_exp_p']]\n",
    "\n",
    "x_test3 = test_set[['score-run_exp_p']]"
   ]
  },
  {
   "cell_type": "code",
   "execution_count": 109,
   "id": "ea907684-b209-4113-bb0f-61a54c533f6d",
   "metadata": {},
   "outputs": [],
   "source": [
    "y_train_pred3 = cross_val_predict(sgd_clf, x_train3, y_train_1, cv=3)"
   ]
  },
  {
   "cell_type": "code",
   "execution_count": 110,
   "id": "d223ccd3-8aa6-4e08-9957-ec81754e5d48",
   "metadata": {},
   "outputs": [
    {
     "data": {
      "text/plain": [
       "array([[1848,   76],\n",
       "       [ 106, 1858]], dtype=int64)"
      ]
     },
     "execution_count": 110,
     "metadata": {},
     "output_type": "execute_result"
    }
   ],
   "source": [
    "cm = confusion_matrix(y_train_1, y_train_pred3)\n",
    "cm"
   ]
  },
  {
   "cell_type": "code",
   "execution_count": 111,
   "id": "d669e61d-2c56-4116-bdfe-427ecd9f2ec3",
   "metadata": {},
   "outputs": [
    {
     "name": "stdout",
     "output_type": "stream",
     "text": [
      "Accuracy of the binary classifier = 0.953\n"
     ]
    }
   ],
   "source": [
    "TN3, FP3, FN3, TP3 = confusion_matrix(y_train_1, y_train_pred3).ravel()\n",
    "accuracy =  (TP3 + TN3) / (TP3 + FP3 + TN3 + FN3)\n",
    "\n",
    "print('Accuracy of the binary classifier = {:0.3f}'.format(accuracy))"
   ]
  },
  {
   "cell_type": "code",
   "execution_count": 112,
   "id": "4ad50dee-15d3-47b1-a96e-f9ba469eda4d",
   "metadata": {},
   "outputs": [
    {
     "data": {
      "text/plain": [
       "0.9607032057911065"
      ]
     },
     "execution_count": 112,
     "metadata": {},
     "output_type": "execute_result"
    }
   ],
   "source": [
    "precision_score(y_train_1, y_train_pred3) "
   ]
  },
  {
   "cell_type": "code",
   "execution_count": 113,
   "id": "4c6fe1a9-6de9-448e-97bb-653ac055985e",
   "metadata": {},
   "outputs": [
    {
     "data": {
      "text/plain": [
       "0.9460285132382892"
      ]
     },
     "execution_count": 113,
     "metadata": {},
     "output_type": "execute_result"
    }
   ],
   "source": [
    "recall_score(y_train_1, y_train_pred3)"
   ]
  },
  {
   "cell_type": "code",
   "execution_count": 114,
   "id": "208b0bf7-b80a-42f4-bb0e-86ad2a74746c",
   "metadata": {},
   "outputs": [
    {
     "data": {
      "text/plain": [
       "0.9533093894304772"
      ]
     },
     "execution_count": 114,
     "metadata": {},
     "output_type": "execute_result"
    }
   ],
   "source": [
    "f1_score(y_train_1, y_train_pred3)"
   ]
  }
 ],
 "metadata": {
  "kernelspec": {
   "display_name": "Python 3 (ipykernel)",
   "language": "python",
   "name": "python3"
  },
  "language_info": {
   "codemirror_mode": {
    "name": "ipython",
    "version": 3
   },
   "file_extension": ".py",
   "mimetype": "text/x-python",
   "name": "python",
   "nbconvert_exporter": "python",
   "pygments_lexer": "ipython3",
   "version": "3.12.2"
  }
 },
 "nbformat": 4,
 "nbformat_minor": 5
}
