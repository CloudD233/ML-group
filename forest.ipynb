{
 "cells": [
  {
   "cell_type": "code",
   "execution_count": 2,
   "metadata": {},
   "outputs": [],
   "source": [
    "import pandas as pd"
   ]
  },
  {
   "cell_type": "code",
   "execution_count": 5,
   "metadata": {},
   "outputs": [],
   "source": [
    "file_path = \"C:/Users/zxckj/Documents/ML-group/fullData.csv\"\n",
    "data = pd.read_csv(file_path)\n",
    "\n",
    "df = pd.DataFrame(data)"
   ]
  },
  {
   "cell_type": "code",
   "execution_count": 9,
   "metadata": {},
   "outputs": [
    {
     "data": {
      "text/plain": [
       "Index(['JOIN', 'team_id', 'team_side', 'date', 'start_time', 'doubleheader',\n",
       "       'time_of_day', 'sky', 'field_condition', 'precipitation',\n",
       "       'wind_direction', 'park_id', 'temperature_fahrenheit', 'attendance',\n",
       "       'wind_speed_mph', 'is_interleague', 'series_id', 'season_game_number',\n",
       "       'series_game_number', 'days_since_last_game', 'pitches_p', 'ba_p',\n",
       "       'iso_p', 'babip_p', 'slg_p', 'woba_p', 'xwoba_p', 'xba_p', 'hits_p',\n",
       "       'abs_p', 'launch_speed_p', 'launch_angle_p', 'spin_rate_p',\n",
       "       'velocity_p', 'effective_speed_p', 'whiffs_p', 'swings_p', 'takes_p',\n",
       "       'eff_min_vel_p', 'release_extension_p', 'pos3_int_start_distance_p',\n",
       "       'pos4_int_start_distance_p', 'pos5_int_start_distance_p',\n",
       "       'pos6_int_start_distance_p', 'pos7_int_start_distance_p',\n",
       "       'pos8_int_start_distance_p', 'pos9_int_start_distance_p',\n",
       "       'pitcher_run_exp_p', 'run_exp_p', 'pitches_h', 'ba_h', 'iso_h',\n",
       "       'babip_h', 'slg_h', 'woba_h', 'xwoba_h', 'xba_h', 'hits_h', 'abs_h',\n",
       "       'launch_speed_h', 'launch_angle_h', 'spin_rate_h', 'velocity_h',\n",
       "       'effective_speed_h', 'whiffs_h', 'swings_h', 'takes_h', 'eff_min_vel_h',\n",
       "       'release_extension_h', 'pos3_int_start_distance_h',\n",
       "       'pos4_int_start_distance_h', 'pos5_int_start_distance_h',\n",
       "       'pos6_int_start_distance_h', 'pos7_int_start_distance_h',\n",
       "       'pos8_int_start_distance_h', 'pos9_int_start_distance_h',\n",
       "       'pitcher_run_exp_h', 'run_exp_h', 'dayOfWeek', 'duration', 'runs',\n",
       "       'scoreLine'],\n",
       "      dtype='object')"
      ]
     },
     "execution_count": 9,
     "metadata": {},
     "output_type": "execute_result"
    }
   ],
   "source": [
    "df.columns"
   ]
  },
  {
   "cell_type": "code",
   "execution_count": 15,
   "metadata": {},
   "outputs": [],
   "source": [
    "df = df.drop(columns = ['JOIN','field_condition', 'precipitation'])"
   ]
  },
  {
   "cell_type": "markdown",
   "metadata": {},
   "source": [
    "- Encodes the categorical variables using one-hot encoding to make them - suitable for the model.\n",
    "- Splits the data into training (80%) and testing (20%) sets.\n",
    "- Trains a random forest classifier on the training data.\n",
    "- Evaluates the model on the test data and prints the accuracy score."
   ]
  },
  {
   "cell_type": "code",
   "execution_count": 35,
   "metadata": {},
   "outputs": [],
   "source": [
    "from sklearn.model_selection import train_test_split\n",
    "from sklearn.ensemble import RandomForestClassifier\n",
    "from sklearn.metrics import accuracy_score\n",
    "import numpy as np"
   ]
  },
  {
   "cell_type": "code",
   "execution_count": 68,
   "metadata": {},
   "outputs": [
    {
     "data": {
      "text/plain": [
       "0.8559670781893004"
      ]
     },
     "execution_count": 68,
     "metadata": {},
     "output_type": "execute_result"
    }
   ],
   "source": [
    "\n",
    "data['home_win'] = (data['Home score'] > data['Away score']).astype(int)\n",
    "\n",
    "features = data[['Home score', 'Away score']]\n",
    "target = data['home_win']\n",
    "\n",
    "additional_features = data[[]]\n",
    "features_extended = pd.concat([features, additional_features], axis=1)\n",
    "\n",
    "non_numeric_columns = features_extended.select_dtypes(include=['object']).columns\n",
    "features_extended_numeric = features_extended.drop(non_numeric_columns, axis=1)\n",
    "\n",
    "X_train_numeric, X_test_numeric, y_train_numeric, y_test_numeric = train_test_split(features_extended_numeric, target, test_size=0.2, random_state=42)\n",
    "\n",
    "rf_classifier_numeric = RandomForestClassifier(n_estimators=1, random_state=42)\n",
    "rf_classifier_numeric.fit(X_train_numeric, y_train_numeric)\n",
    "\n",
    "y_pred_numeric = rf_classifier_numeric.predict(X_test_numeric)\n",
    "\n",
    "accuracy_numeric = accuracy_score(y_test_numeric, y_pred_numeric)\n",
    "\n",
    "accuracy_numeric"
   ]
  }
 ],
 "metadata": {
  "kernelspec": {
   "display_name": "base",
   "language": "python",
   "name": "python3"
  },
  "language_info": {
   "codemirror_mode": {
    "name": "ipython",
    "version": 3
   },
   "file_extension": ".py",
   "mimetype": "text/x-python",
   "name": "python",
   "nbconvert_exporter": "python",
   "pygments_lexer": "ipython3",
   "version": "3.11.5"
  }
 },
 "nbformat": 4,
 "nbformat_minor": 2
}
